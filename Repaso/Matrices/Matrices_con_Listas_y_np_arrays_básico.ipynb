{
  "nbformat": 4,
  "nbformat_minor": 0,
  "metadata": {
    "colab": {
      "provenance": []
    },
    "kernelspec": {
      "name": "python3",
      "display_name": "Python 3"
    },
    "language_info": {
      "name": "python"
    }
  },
  "cells": [
    {
      "cell_type": "markdown",
      "source": [
        "# Matrices\n",
        "## Implementada como listas de listas, con numpy.array y el resultado de aplicarles los operadores + y *\n",
        "\n",
        "Referencias:\n",
        "\n",
        "[Numpy array rutinas web) https://numpy.org/doc/stable/reference/routines.array-creation.html](https://numpy.org/doc/stable/reference/routines.array-creation.html)\n",
        "\n",
        "\n",
        "---\n",
        "Roberto Méndez Méndez\n",
        "\n",
        "Editado: 8 Ago 24"
      ],
      "metadata": {
        "id": "eqwVsTSNsG1X"
      }
    },
    {
      "cell_type": "markdown",
      "source": [
        "## Matrices modeladas con Listas"
      ],
      "metadata": {
        "id": "CKLDtitdSm9W"
      }
    },
    {
      "cell_type": "markdown",
      "source": [
        "### Operación + con  matrices como lista"
      ],
      "metadata": {
        "id": "ZEzHup8PRpqK"
      }
    },
    {
      "cell_type": "code",
      "execution_count": null,
      "metadata": {
        "id": "9q2wURZf0vyd"
      },
      "outputs": [],
      "source": [
        "M1 = [[1,2,3], [3,2,1]]\n",
        "M2 = [[4,5,6], [6,5,4]]\n",
        "\n",
        "Msuma= M1 + M2\n",
        "print(Msuma)"
      ]
    },
    {
      "cell_type": "markdown",
      "source": [
        "### Se podrá el producto con *?"
      ],
      "metadata": {
        "id": "oMkfEcs29M4g"
      }
    },
    {
      "cell_type": "code",
      "source": [
        "M1 = [[1,2,3], [3,2,1]]\n",
        "M2 = [[4,5,6], [6,5,4]]\n",
        "\n",
        "Mproducto= M1 * M2\n",
        "print(Mproducto)"
      ],
      "metadata": {
        "id": "V2_8eSfe3Uk0"
      },
      "execution_count": null,
      "outputs": []
    },
    {
      "cell_type": "markdown",
      "source": [
        "### Suma de Matrices como Listas"
      ],
      "metadata": {
        "id": "xMZ9GCKW-gMH"
      }
    },
    {
      "cell_type": "markdown",
      "source": [
        "Suma de posiciones independientes"
      ],
      "metadata": {
        "id": "RSLirmteshbN"
      }
    },
    {
      "cell_type": "code",
      "source": [
        "M1 = [[1,2,3], [4,5,6]]\n",
        "M2 = [[-1,7,8], [-3,5.5,0]]\n",
        "\n",
        "for n in range(len(M1)):\n",
        "    for m in range(len(M2[0])):\n",
        "        print(\"En la posición: \",n,m)\n",
        "        print(\"La suma es: \", M1[n][m] + M2[n][m])"
      ],
      "metadata": {
        "id": "jq7FRKWx25g0"
      },
      "execution_count": null,
      "outputs": []
    },
    {
      "cell_type": "markdown",
      "source": [
        "Suma que se almacena en una Lista"
      ],
      "metadata": {
        "id": "1hbIoHz4sxs7"
      }
    },
    {
      "cell_type": "code",
      "source": [
        "M1 = [[1,2,3], [4,5,6]]\n",
        "M2 = [[-1,7,8], [-3,5.5,0]]\n",
        "\n",
        "Msum =[]\n",
        "for n in range(len(M1)):\n",
        "    Msum.append([])\n",
        "    for m in range(len(M2[0])):\n",
        "        Msum[n].append(M1[n][m] + M2[n][m])\n",
        "print(Msum)"
      ],
      "metadata": {
        "id": "cftPCkOy8vD6"
      },
      "execution_count": null,
      "outputs": []
    },
    {
      "cell_type": "markdown",
      "source": [
        "### Producto de Matrices como Listas usando ciclos"
      ],
      "metadata": {
        "id": "NoWhriNSYuFJ"
      }
    },
    {
      "cell_type": "code",
      "source": [
        "M1 = [[1,2,3], [5.5,12,1]]\n",
        "M2 = [[4,5,6,3], [6,5,4,3], [3,5,7,3]]\n",
        "\n",
        "Mprod =[]\n",
        "for n in range(len(M1)):\n",
        "    Mprod.append([])\n",
        "    for m in range(len(M2[0])):\n",
        "        tmp = 0\n",
        "        i = 0\n",
        "        while i < len(M1[0]):\n",
        "            tmp += M1[n][i]*M2[i][m]\n",
        "            i += 1\n",
        "        Mprod[n].append(tmp)\n",
        "print(Mprod)"
      ],
      "metadata": {
        "colab": {
          "base_uri": "https://localhost:8080/"
        },
        "id": "L1YDRkT6aRMo",
        "outputId": "59281e6c-bbe5-4efb-aa4c-7877f858345c"
      },
      "execution_count": null,
      "outputs": [
        {
          "output_type": "stream",
          "name": "stdout",
          "text": [
            "[[25, 30, 35, 18], [97.0, 92.5, 88.0, 55.5]]\n"
          ]
        }
      ]
    },
    {
      "cell_type": "markdown",
      "source": [
        "## Matrices modeladas con numpy.array"
      ],
      "metadata": {
        "id": "vqY2_lSrXFOx"
      }
    },
    {
      "cell_type": "markdown",
      "source": [
        "La operación + en  matrices con numpy da justamente la suma de matrices"
      ],
      "metadata": {
        "id": "JzEqccrbXMZ8"
      }
    },
    {
      "cell_type": "code",
      "source": [
        "import numpy as np\n",
        "M1 = np.array([[1,2,3], [5.5,12,1]])\n",
        "M2 = np.array([[4,5,6], [6,5,4]])\n",
        "\n",
        "Msuma = M1 + M2\n",
        "print(Msuma)"
      ],
      "metadata": {
        "id": "LpRf0Tzt1Stq"
      },
      "execution_count": null,
      "outputs": []
    },
    {
      "cell_type": "markdown",
      "source": [
        "Implementación de la suma de matrices (numpy) con ciclos"
      ],
      "metadata": {
        "id": "7M7mFYJOYEpc"
      }
    },
    {
      "cell_type": "code",
      "source": [
        "import numpy as np\n",
        "M1n = np.array([[1,2,3], [5.5,12,1]])\n",
        "M2n = np.array([[4,5,6], [6,5,4]])\n",
        "\n",
        "Msum =np.zeros((len(M1n), M1n[0].size))\n",
        "\n",
        "for i in range(len(M1n)):\n",
        "    for j in range(len(M2n[0])):\n",
        "        Msum[i][j] = M1n[i][j] + M2n[i][j]\n",
        "print(Msum)"
      ],
      "metadata": {
        "id": "qUdo03MDtUIY"
      },
      "execution_count": null,
      "outputs": []
    },
    {
      "cell_type": "markdown",
      "source": [
        "La operación * en  matrices con numpy, regresa el producto de los valores en la misma posición."
      ],
      "metadata": {
        "id": "7ENzBSNRXnxv"
      }
    },
    {
      "cell_type": "code",
      "source": [
        "import numpy as np\n",
        "M1 = np.array([[1,2,3], [3,2,1]])\n",
        "M2 = np.array([[4,5,6], [6,5,4]])\n",
        "\n",
        "Mproducto  = M1 * M2\n",
        "print(Mproducto)"
      ],
      "metadata": {
        "id": "CctYSj9f3eSC"
      },
      "execution_count": null,
      "outputs": []
    },
    {
      "cell_type": "markdown",
      "source": [
        "### Producto de Matrices con numpy usando ciclos"
      ],
      "metadata": {
        "id": "EmPKXKS-bBtn"
      }
    },
    {
      "cell_type": "code",
      "source": [
        "import numpy as np\n",
        "\n",
        "M1n = np.array([[1,2,3], [5.5,12,1]])\n",
        "M2n = np.array([[4,5,6,3], [6,5,4,3], [3,5,7,3]])\n",
        "\n",
        "Mprod =np.zeros((len(M1n), M2n[0].size))\n",
        "\n",
        "# Forma aritmética\n",
        "\n",
        "for i in range(len(M1n)):\n",
        "    for j in range(len(M2n[0])):\n",
        "        tmp = 0\n",
        "        for k in range(len(M2n)):\n",
        "            tmp += M1n[i][k]*M2n[k][j]\n",
        "        Mprod[i][j] = tmp\n",
        "print(\"La matriz producto es: \\n \", Mprod)\n",
        "\n",
        "\n",
        "# Forma usando *, sum() y submatriz con M2n[:,j]\n",
        "for i in range(len(M1n)):\n",
        "    for j in range(len(M2n[0])):\n",
        "        Mprod[i][j] = np.sum(M1n[i]*M2n[:,j])\n",
        "print(\"La matriz producto es: \\n \", Mprod)"
      ],
      "metadata": {
        "id": "Bn0Or8XhcKER"
      },
      "execution_count": null,
      "outputs": []
    },
    {
      "cell_type": "markdown",
      "source": [
        "### Algunas funciones muy básicas en numpy para matrices"
      ],
      "metadata": {
        "id": "YhrlEOv-etIY"
      }
    },
    {
      "cell_type": "code",
      "source": [
        "m1s = np.ones((2,3))\n",
        "print(m1s)\n",
        "\n",
        "m0s = np.zeros((2,3))\n",
        "print(m0s)\n",
        "\n",
        "print(m1s.size)\n",
        "print(len(M1n))\n",
        "\n",
        "mVacia = np.empty([1,3])\n",
        "print(mVacia)\n",
        "\n",
        "mVacia = np.empty([3,4])\n",
        "print(mVacia)"
      ],
      "metadata": {
        "id": "F1UiLRM5vZ-o"
      },
      "execution_count": null,
      "outputs": []
    }
  ]
}