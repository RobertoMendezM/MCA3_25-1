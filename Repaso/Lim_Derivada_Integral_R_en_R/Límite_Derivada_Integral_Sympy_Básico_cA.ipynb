{
  "nbformat": 4,
  "nbformat_minor": 0,
  "metadata": {
    "colab": {
      "provenance": []
    },
    "kernelspec": {
      "name": "python3",
      "display_name": "Python 3"
    },
    "language_info": {
      "name": "python"
    }
  },
  "cells": [
    {
      "cell_type": "markdown",
      "source": [
        "\n",
        "# Límite, derivada e Integral de una Función en Python con sympy </center>\n",
        "\n",
        "Con Actividades para el alumno\n",
        "\n",
        "Referencias:\n",
        "\n",
        "* [Calculus con sympy](https://docs.sympy.org/latest/tutorials/intro-tutorial/calculus.html)\n",
        "* [Uso de IPython.display](https://stackoverflow.com/questions/20979993/how-to-pretty-print-in-ipython-notebook-via-sympy)\n",
        "\n",
        "---\n",
        "autor: Roberto Méndez\n",
        "\n",
        "Editado: 30 Jun 24\n"
      ],
      "metadata": {
        "id": "KrAwpZovSB-9"
      }
    },
    {
      "cell_type": "markdown",
      "source": [
        "# Límites"
      ],
      "metadata": {
        "id": "B-w7kgzjox3S"
      }
    },
    {
      "cell_type": "code",
      "execution_count": null,
      "metadata": {
        "id": "tbmLR_zER8wP"
      },
      "outputs": [],
      "source": [
        "from sympy import symbols, limit, sin\n",
        "x  = symbols('x')\n",
        "limf = limit(sin(x)/x, x, 4)\n",
        "print(\"El límite es: \", limf)\n",
        "###\n",
        "print(\"El límite evaluado es: \", limf.evalf())"
      ]
    },
    {
      "cell_type": "code",
      "source": [
        "from sympy import symbols, limit, sqrt\n",
        "x  = symbols('x')\n",
        "fx = sqrt(x - 1)\n",
        "limf = limit(fx, x, 1, '+')\n",
        "print(\"El límite es: \", limf)"
      ],
      "metadata": {
        "id": "YnU2FMlBX0U6"
      },
      "execution_count": null,
      "outputs": []
    },
    {
      "cell_type": "markdown",
      "source": [
        "## Actividad:\n",
        "Problema Interprepas Matemáticas VI área 2\n",
        "\n",
        "Encuenre el límite de\n",
        "\\begin{equation}\n",
        " \\lim_{x → 2} \\frac{x^2 - 4}{\\sqrt{x + 7} - \\frac{3}{2}\\sqrt{x + 2} }\n",
        "\\end{equation}\n"
      ],
      "metadata": {
        "id": "CmvGgSRRmfKZ"
      }
    },
    {
      "cell_type": "markdown",
      "source": [
        "# Derivada"
      ],
      "metadata": {
        "id": "JR4468zJpWl4"
      }
    },
    {
      "cell_type": "code",
      "source": [
        "from sympy import symbols, diff, sin\n",
        "x  = symbols('x')\n",
        "dx = diff(sin(x)/x, x)\n",
        "print(\"La derivada es: \", dx)\n",
        "dxEval = dx.subs(x, 4).evalf()\n",
        "print(\"La derivada evaluada en x = 4 es: \", dxEval)"
      ],
      "metadata": {
        "id": "2j7lHzo_YrdI"
      },
      "execution_count": null,
      "outputs": []
    },
    {
      "cell_type": "markdown",
      "source": [
        "Problema Interpreparatoriano Matemáticsa VI área 1\n",
        "\n",
        "\\begin{equation}\n",
        " f(x) = \\ln \\left( \\frac{4^{7x^2}}{5e^{3x^5}}\\right)\n",
        "\\end{equation}\n"
      ],
      "metadata": {
        "id": "NHPPLJxGrkYp"
      }
    },
    {
      "cell_type": "code",
      "source": [
        "from sympy import symbols, diff, exp, ln\n",
        "\n",
        "x  = symbols('x')\n",
        "fx = ln(4**(7*x**2)/(5*exp(3*x**5)))\n",
        "dx = diff(fx, x)\n",
        "print(\"La derivada es: \\n {0}  \\n= {1} \".format(dx, dx.simplify()))\n",
        "#Evaluando en el puntos críticos\n",
        "#print(\n",
        "puntoEvaluacion = 0\n",
        "dxEval = dx.subs(x, puntoEvaluacion).evalf()\n",
        "print(\"La derivada evaluada en x = {0} es: {1}\".format(puntoEvaluacion, dxEval))\n",
        "puntoEvaluacion = 1.08967\n",
        "dxEval = dx.subs(x, puntoEvaluacion).evalf()\n",
        "print(\"La derivada evaluada en x = {0} es: {1}\".format(puntoEvaluacion, dxEval))"
      ],
      "metadata": {
        "id": "Z869mIS5bRHJ"
      },
      "execution_count": null,
      "outputs": []
    },
    {
      "cell_type": "markdown",
      "source": [
        "Problema Interpreparatoriano Matemáticsa VI área 1\n",
        "\n",
        "\\begin{equation}\n",
        " f(x) = \\ln \\left( \\frac{4^{7x^2}}{5e^{3x^5}}\\right)\n",
        "\\end{equation}\n",
        "\n",
        "Con formato de impresión de datos estilo Latex y simplificado.\n"
      ],
      "metadata": {
        "id": "ZRxLYPfmynA6"
      }
    },
    {
      "cell_type": "code",
      "source": [
        "from IPython.display import display, Latex\n",
        "from sympy import symbols, exp, ln, latex, Derivative, init_printing\n",
        "init_printing(use_latex='mathjax')\n",
        "\n",
        "x  = symbols('x')\n",
        "derv_x = Derivative(ln(4**(7*x**2)/(5*exp(3*x**5))), x)\n",
        "\n",
        "print(\"La derivada es: \\n\")\n",
        "result = \"$${} ={} = {}$$\".format(latex(derv_x),latex(derv_x.doit()),\n",
        "                                  latex(derv_x.doit().simplify()))\n",
        "derv_x.doit().subs(x, 0)\n",
        "display(Latex(result))\n",
        "#Evaluando en  puntos particulares\n",
        "puntoEvaluacion = 0\n",
        "dxEval = derv_x.doit().subs(x, puntoEvaluacion).evalf()\n",
        "print(\"La derivada evaluada en x = {0} es: {1}\".format(puntoEvaluacion, dxEval))\n",
        "puntoEvaluacion = 1.08967\n",
        "dxEval = derv_x.doit().subs(x, puntoEvaluacion).evalf()\n",
        "print(\"La derivada evaluada en x = {0} es: {1}\".format(puntoEvaluacion, dxEval))"
      ],
      "metadata": {
        "colab": {
          "base_uri": "https://localhost:8080/",
          "height": 148
        },
        "outputId": "a8b7fd99-915f-4dca-90c8-b0c52cc7969d",
        "id": "j4De_Li4xoM5"
      },
      "execution_count": null,
      "outputs": [
        {
          "output_type": "stream",
          "name": "stdout",
          "text": [
            "La derivada es: \n",
            "\n"
          ]
        },
        {
          "output_type": "display_data",
          "data": {
            "text/plain": [
              "<IPython.core.display.Latex object>"
            ],
            "text/latex": "$$\\frac{d}{d x} \\log{\\left(\\frac{4^{7 x^{2}} e^{- 3 x^{5}}}{5} \\right)} =5 \\cdot 4^{- 7 x^{2}} \\left(- 3 \\cdot 4^{7 x^{2}} x^{4} e^{- 3 x^{5}} + \\frac{14 \\cdot 4^{7 x^{2}} x e^{- 3 x^{5}} \\log{\\left(4 \\right)}}{5}\\right) e^{3 x^{5}} = - 15 x^{4} + 28 x \\log{\\left(2 \\right)}$$"
          },
          "metadata": {}
        },
        {
          "output_type": "stream",
          "name": "stdout",
          "text": [
            "La derivada evaluada en x = 0 es: 0\n",
            "La derivada evaluada en x = 1.08967 es: 0.000353052723166182\n"
          ]
        }
      ]
    },
    {
      "cell_type": "markdown",
      "source": [
        "## Actividad:\n",
        "Problema Interprepas Matemáticas VI área 1\n",
        "\n",
        "Encuenre la derivada de\n",
        "\\begin{equation}\n",
        " f(x) = \\tan \\left( \\frac{e^{2\\sin(x)}}{4x}\\right)^{\\sqrt{x}}\n",
        "\\end{equation}\n"
      ],
      "metadata": {
        "id": "sPhuepystCOg"
      }
    },
    {
      "cell_type": "markdown",
      "source": [
        "# Integrales"
      ],
      "metadata": {
        "id": "eDBBsI50zhjm"
      }
    },
    {
      "cell_type": "markdown",
      "source": [
        "### Usanto la función Intregal"
      ],
      "metadata": {
        "id": "gjF2cHs_FELe"
      }
    },
    {
      "cell_type": "code",
      "source": [
        "from sympy import symbols, Integral, sin\n",
        "\n",
        "x  = symbols('x')\n",
        "intsen = Integral(sin(x), (x,-1,1))\n",
        "print(\"El resultado es: \", intsen.evalf())"
      ],
      "metadata": {
        "id": "rveewbrmjw9W"
      },
      "execution_count": null,
      "outputs": []
    },
    {
      "cell_type": "markdown",
      "source": [
        "### Usando la función intregate"
      ],
      "metadata": {
        "id": "jdgdXrtIFQIa"
      }
    },
    {
      "cell_type": "code",
      "source": [],
      "metadata": {
        "id": "2y4PzagcGLmf"
      },
      "execution_count": null,
      "outputs": []
    },
    {
      "cell_type": "code",
      "source": [
        "from sympy import symbols, integrate, exp, oo\n",
        "\n",
        "x  = symbols('x')\n",
        "print(integrate(exp(-x), (x, 0, oo)))"
      ],
      "metadata": {
        "colab": {
          "base_uri": "https://localhost:8080/"
        },
        "id": "8ipYUsmOFOgS",
        "outputId": "ef42f414-23de-49c5-869e-937b0d3a8ddc"
      },
      "execution_count": null,
      "outputs": [
        {
          "output_type": "stream",
          "name": "stdout",
          "text": [
            "1\n"
          ]
        }
      ]
    },
    {
      "cell_type": "markdown",
      "source": [
        "## Actividad:\n",
        "\n",
        "\n",
        "Encuenre la integral de\n",
        "\\begin{equation}\n",
        " \\int_{-1}^1\\sqrt{1 + x^3}\n",
        "\\end{equation}\n"
      ],
      "metadata": {
        "id": "koUBSEbsGhQ4"
      }
    }
  ]
}