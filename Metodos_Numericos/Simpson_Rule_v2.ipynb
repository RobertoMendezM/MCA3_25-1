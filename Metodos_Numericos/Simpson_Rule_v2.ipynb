{
  "nbformat": 4,
  "nbformat_minor": 0,
  "metadata": {
    "colab": {
      "provenance": []
    },
    "kernelspec": {
      "name": "python3",
      "display_name": "Python 3"
    },
    "language_info": {
      "name": "python"
    }
  },
  "cells": [
    {
      "cell_type": "markdown",
      "source": [
        "# <h1 align=\"center\"> Método de Simpson </h1>\n",
        "#  <h1 align=\"center\"> Aproximación a la Integral </h1>\n",
        "\n",
        "## Fórmula\n",
        "\n",
        "\\begin{align}\n",
        "\\int_a^b  f(x) \\, dx & \\approx \\frac{\\Delta x}{3} \\left[f(x_0) + 4f(x_1) + 2f(x_2) + 4f(x_3) + 2f(x_4) + \\ldots \\\\ +  2f(x_{n-2})  +  4f(x_{n-1}) + f(x_n)\\right]\n",
        "\\end{align}\n",
        "\n",
        "\n",
        "### Se considera una partición homogenea del intervalo $[a,b]$, $\\Delta x = (b - a)/n$ el tamaño de paso, e $i = 0,1,2 … , n$ ; siendo *n* par.\n",
        "\n",
        "\n",
        "----\n",
        "Referencias:\n",
        "* Stewart & Kokoska (2023). Calculus Concepts and Contexts, 5th edition, Cengage. pág. 495\n",
        "\n",
        "---\n",
        "\n",
        "Autor: Roberto Méndez Méndez\n",
        "\n",
        "Editado: 11 Sep 24   v2"
      ],
      "metadata": {
        "id": "sx2XjAQ78FTL"
      }
    },
    {
      "cell_type": "markdown",
      "source": [
        "###Aproximar\n",
        "\\begin{equation}\n",
        "\\int_0^1 \\sqrt{1 + \\left[\\frac{\\pi}{7}\\cos\\left(\\frac{\\pi x}{7}\\right)\\right]^2}\n",
        "\\end{equation}"
      ],
      "metadata": {
        "id": "qXS9hqqZevMh"
      }
    },
    {
      "cell_type": "code",
      "execution_count": 2,
      "metadata": {
        "colab": {
          "base_uri": "https://localhost:8080/"
        },
        "id": "F0i_PKYH8C8E",
        "outputId": "d1534035-8f06-41dd-bbbc-b4d277e80fbf"
      },
      "outputs": [
        {
          "output_type": "stream",
          "name": "stdout",
          "text": [
            "La integral aproximada es:  1.0901394712561756\n"
          ]
        }
      ],
      "source": [
        "import numpy as np\n",
        "import matplotlib.pyplot as plt\n",
        "\n",
        "x0 = 0\n",
        "xb = 1\n",
        "# n debe ser un número par\n",
        "n = 10\n",
        "\n",
        "def f(x):\n",
        "    y = np.sqrt(1 + (np.pi*np.cos(np.pi*x/7)/7)**2)\n",
        "    return y\n",
        "\n",
        "t = np.linspace(x0,xb,n+1)\n",
        "\n",
        "suma = 0\n",
        "for i in range(n//2):\n",
        "    suma += f(t[2*i]) + 4*f(t[2*i+1]) + f(t[2*i+2])\n",
        "\n",
        "dt = t[1] - t[0]\n",
        "aprox = dt*suma/3\n",
        "\n",
        "print(\"La integral aproximada es: \", aprox)"
      ]
    },
    {
      "cell_type": "markdown",
      "source": [
        "###Aproximar\n",
        "\\begin{equation}\n",
        "\\int_0^1 \\ln \\left( \\sqrt{2x^2 + 1} + \\sqrt{2}x \\right)\n",
        "\\end{equation}"
      ],
      "metadata": {
        "id": "ALid88_yfzyv"
      }
    },
    {
      "cell_type": "code",
      "source": [
        "import numpy as np\n",
        "import matplotlib.pyplot as plt\n",
        "\n",
        "x0 = 0\n",
        "xb = 1\n",
        "#n debe ser un número par\n",
        "n = 20\n",
        "\n",
        "def f(x):\n",
        "    y = np.log(np.sqrt(2*x**2 + 1) + np.sqrt(2)*x)\n",
        "    return y\n",
        "\n",
        "t = np.linspace(x0,xb,n+1)\n",
        "\n",
        "suma = 0\n",
        "for i in range(n//2):\n",
        "    suma += f(t[2*i]) + 4*f(t[2*i+1]) + f(t[2*i+2])\n",
        "\n",
        "dt = t[1] - t[0]\n",
        "aprox = dt*suma/3\n",
        "\n",
        "print(\"La integral aproximada es: \", aprox)"
      ],
      "metadata": {
        "id": "9_bgSLqEheef",
        "colab": {
          "base_uri": "https://localhost:8080/"
        },
        "outputId": "54e21d3f-f659-40f8-f2a7-119165cd33ef"
      },
      "execution_count": 6,
      "outputs": [
        {
          "output_type": "stream",
          "name": "stdout",
          "text": [
            "La integral aproximada es:  0.6285778622344705\n"
          ]
        }
      ]
    }
  ]
}