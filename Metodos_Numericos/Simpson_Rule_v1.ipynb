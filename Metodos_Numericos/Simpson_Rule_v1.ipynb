{
  "nbformat": 4,
  "nbformat_minor": 0,
  "metadata": {
    "colab": {
      "provenance": []
    },
    "kernelspec": {
      "name": "python3",
      "display_name": "Python 3"
    },
    "language_info": {
      "name": "python"
    }
  },
  "cells": [
    {
      "cell_type": "markdown",
      "source": [
        "# <h1 align=\"center\"> Método de Simpson </h1>\n",
        "#  <h1 align=\"center\"> Aproximación a la Integral </h1>\n",
        "\n",
        "## Fórmula\n",
        "\n",
        "\\begin{align}\n",
        "\\int_a^b  f(x) \\, dx & \\approx \\frac{\\Delta x}{3} \\left(f(x_0) + 4f(x_1) + 2f(x_2) + 4f(x_3) + 2f(x_4) + \\ldots \\\\ +  2f(x_{n-2})  +  4f(x_{n-1}) + f(x_n)\\right)\n",
        "\\end{align}\n",
        "\n",
        "\n",
        "### Se considera una partición homogenea del intervalo $[a,b]$, $\\Delta x = (b - a)/n$ el tamaño de paso, e $i = 0,1,2 … , n$ ; siendo *n* par.\n",
        "\n",
        "\n",
        "----\n",
        "Referencias:\n",
        "* Stewart  & Kokoska (2023). Calculus Concepts and Canntexts. pág. 495\n",
        "\n",
        "---\n",
        "\n",
        "Autor: Roberto Méndez Méndez\n",
        "\n",
        "Editado: 03 Sep 24   v1"
      ],
      "metadata": {
        "id": "sx2XjAQ78FTL"
      }
    },
    {
      "cell_type": "code",
      "execution_count": 31,
      "metadata": {
        "colab": {
          "base_uri": "https://localhost:8080/"
        },
        "id": "F0i_PKYH8C8E",
        "outputId": "642b027b-8f7d-4136-8353-cd5ad662e628"
      },
      "outputs": [
        {
          "output_type": "stream",
          "name": "stdout",
          "text": [
            "La integral aproximada es:  1.462681400099797\n"
          ]
        }
      ],
      "source": [
        "import numpy as np\n",
        "import matplotlib.pyplot as plt\n",
        "\n",
        "x0 = 0\n",
        "xb = 1\n",
        "n = 10\n",
        "\n",
        "def f(x):\n",
        "    #y = np.sqrt(1 + (np.pi*np.cos(np.pi*x/7)/7)**2)\n",
        "    #y = 1/x\n",
        "    y = np.exp(x**2)\n",
        "    return y\n",
        "\n",
        "t = np.linspace(x0,xb,n+1)\n",
        "\n",
        "suma = 0\n",
        "for i in range(n//2):\n",
        "    suma += f(t[2*i]) + 4*f(t[2*i+1]) + f(t[2*i+2])\n",
        "\n",
        "dt = t[1] - t[0]\n",
        "aprox = dt*suma/3\n",
        "\n",
        "print(\"La integral aproximada es: \", aprox)"
      ]
    }
  ]
}